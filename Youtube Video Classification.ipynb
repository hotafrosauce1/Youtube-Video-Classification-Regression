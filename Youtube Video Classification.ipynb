{
 "cells": [
  {
   "cell_type": "code",
   "execution_count": null,
   "metadata": {},
   "outputs": [],
   "source": [
    "# dbutils.library.installPyPI(\"keras\")\n",
    "# dbutils.library.installPyPI(\"tensorflow\")\n",
    "# dbutils.library.installPyPI(\"image\")\n",
    "\n",
    "# dbutils.library.restartPython()"
   ]
  },
  {
   "cell_type": "code",
   "execution_count": 30,
   "metadata": {},
   "outputs": [],
   "source": [
    "# Standard Imports\n",
    "import numpy as np\n",
    "import matplotlib.pyplot as plt\n",
    "import seaborn as sns\n",
    "import pandas as pd\n",
    "\n",
    "# Pipelines for training and evaluating model\n",
    "from sklearn.pipeline import Pipeline\n",
    "\n",
    "# Preprocessing/Feature Extraction\n",
    "from sklearn.impute import SimpleImputer\n",
    "from sklearn.preprocessing import FunctionTransformer\n",
    "from sklearn.preprocessing import LabelEncoder\n",
    "from sklearn.feature_extraction.text import CountVectorizer\n",
    "from sklearn.feature_extraction.text import TfidfTransformer\n",
    "from sklearn.compose import ColumnTransformer\n",
    "from sklearn.preprocessing import StandardScaler\n",
    "\n",
    "# Models \n",
    "from sklearn.linear_model import LogisticRegressionCV\n",
    "from sklearn.ensemble import RandomForestClassifier\n",
    "from sklearn.neighbors import KNeighborsClassifier\n",
    "\n",
    "from sklearn.model_selection import train_test_split\n",
    "from sklearn.model_selection import cross_val_score\n",
    "\n",
    "import keras\n",
    "from keras.models import Sequential\n",
    "from keras.layers import Conv2D\n",
    "from keras.layers import MaxPooling2D\n",
    "from keras.layers import Dropout\n",
    "from keras.layers import Dense\n",
    "from keras.layers import Flatten\n",
    "from keras.optimizers import SGD\n",
    "\n",
    "# Scoring\n",
    "from yellowbrick.classifier import ConfusionMatrix\n",
    "from sklearn.metrics import confusion_matrix\n",
    "from sklearn.metrics import classification_report\n",
    "from sklearn.metrics import accuracy_score\n",
    "from sklearn.metrics import make_scorer\n",
    "\n",
    "# Misc\n",
    "import requests\n",
    "from PIL import Image\n",
    "from io import BytesIO\n",
    "from keras.wrappers.scikit_learn import KerasClassifier\n",
    "from keras.backend import clear_session"
   ]
  },
  {
   "cell_type": "code",
   "execution_count": 2,
   "metadata": {},
   "outputs": [],
   "source": [
    "# Converts JSON dictionary of Video Category Ids for \n",
    "# a given country into a DataFrame\n",
    "def json_to_df(path):\n",
    "    f = lambda x: x.loc['items']['snippet']['title']\n",
    "    g = lambda x: x.loc['items']['snippet']['assignable']\n",
    "    h = lambda x: x.loc['items']['id']\n",
    "    \n",
    "    df = pd.read_json(path)\n",
    "    df['Category'] = df.apply(f, axis = 1)\n",
    "    df['Assignable'] = df.apply(g, axis = 1)\n",
    "    df['Id'] = df.apply(h, axis = 1)\n",
    "    df['Id'] = df['Id'].astype(int)\n",
    "    \n",
    "    cols = ['Id', 'Category', 'Assignable']\n",
    "    \n",
    "    df = df[cols]\n",
    "    \n",
    "    return df[df['Assignable']]"
   ]
  },
  {
   "cell_type": "code",
   "execution_count": 3,
   "metadata": {},
   "outputs": [
    {
     "data": {
      "text/html": [
       "<div>\n",
       "<style scoped>\n",
       "    .dataframe tbody tr th:only-of-type {\n",
       "        vertical-align: middle;\n",
       "    }\n",
       "\n",
       "    .dataframe tbody tr th {\n",
       "        vertical-align: top;\n",
       "    }\n",
       "\n",
       "    .dataframe thead th {\n",
       "        text-align: right;\n",
       "    }\n",
       "</style>\n",
       "<table border=\"1\" class=\"dataframe\">\n",
       "  <thead>\n",
       "    <tr style=\"text-align: right;\">\n",
       "      <th></th>\n",
       "      <th>video_id</th>\n",
       "      <th>trending_date</th>\n",
       "      <th>title</th>\n",
       "      <th>channel_title</th>\n",
       "      <th>category_id</th>\n",
       "      <th>publish_time</th>\n",
       "      <th>tags</th>\n",
       "      <th>views</th>\n",
       "      <th>likes</th>\n",
       "      <th>dislikes</th>\n",
       "      <th>comment_count</th>\n",
       "      <th>thumbnail_link</th>\n",
       "      <th>comments_disabled</th>\n",
       "      <th>ratings_disabled</th>\n",
       "      <th>video_error_or_removed</th>\n",
       "      <th>description</th>\n",
       "      <th>Id</th>\n",
       "      <th>Category</th>\n",
       "      <th>Assignable</th>\n",
       "    </tr>\n",
       "  </thead>\n",
       "  <tbody>\n",
       "    <tr>\n",
       "      <td>0</td>\n",
       "      <td>n1WpP7iowLc</td>\n",
       "      <td>17.14.11</td>\n",
       "      <td>Eminem - Walk On Water (Audio) ft. Beyoncé</td>\n",
       "      <td>EminemVEVO</td>\n",
       "      <td>10</td>\n",
       "      <td>2017-11-10T17:00:03.000Z</td>\n",
       "      <td>Eminem Walk On Water Aftermath/Shady/Interscop...</td>\n",
       "      <td>17158579</td>\n",
       "      <td>787425</td>\n",
       "      <td>43420</td>\n",
       "      <td>125882</td>\n",
       "      <td>https://i.ytimg.com/vi/n1WpP7iowLc/default.jpg</td>\n",
       "      <td>False</td>\n",
       "      <td>False</td>\n",
       "      <td>False</td>\n",
       "      <td>Eminem's new track Walk on Water ft. Beyoncé i...</td>\n",
       "      <td>10</td>\n",
       "      <td>Music</td>\n",
       "      <td>True</td>\n",
       "    </tr>\n",
       "    <tr>\n",
       "      <td>1</td>\n",
       "      <td>2Vv-BfVoq4g</td>\n",
       "      <td>17.14.11</td>\n",
       "      <td>Ed Sheeran - Perfect (Official Music Video)</td>\n",
       "      <td>Ed Sheeran</td>\n",
       "      <td>10</td>\n",
       "      <td>2017-11-09T11:04:14.000Z</td>\n",
       "      <td>edsheeran ed sheeran acoustic live cover offic...</td>\n",
       "      <td>33523622</td>\n",
       "      <td>1634130</td>\n",
       "      <td>21082</td>\n",
       "      <td>85067</td>\n",
       "      <td>https://i.ytimg.com/vi/2Vv-BfVoq4g/default.jpg</td>\n",
       "      <td>False</td>\n",
       "      <td>False</td>\n",
       "      <td>False</td>\n",
       "      <td>🎧: https://ad.gt/yt-perfect\\n💰: https://atlant...</td>\n",
       "      <td>10</td>\n",
       "      <td>Music</td>\n",
       "      <td>True</td>\n",
       "    </tr>\n",
       "    <tr>\n",
       "      <td>2</td>\n",
       "      <td>H1KBHFXm2Bg</td>\n",
       "      <td>17.14.11</td>\n",
       "      <td>21 Savage - Bank Account (Official Music Video)</td>\n",
       "      <td>21 Savage</td>\n",
       "      <td>10</td>\n",
       "      <td>2017-11-10T19:00:02.000Z</td>\n",
       "      <td>21 savage bank account 21 savage bank account ...</td>\n",
       "      <td>5068229</td>\n",
       "      <td>263596</td>\n",
       "      <td>8585</td>\n",
       "      <td>28976</td>\n",
       "      <td>https://i.ytimg.com/vi/H1KBHFXm2Bg/default.jpg</td>\n",
       "      <td>False</td>\n",
       "      <td>False</td>\n",
       "      <td>False</td>\n",
       "      <td>Watch the official music video of Bank Account...</td>\n",
       "      <td>10</td>\n",
       "      <td>Music</td>\n",
       "      <td>True</td>\n",
       "    </tr>\n",
       "    <tr>\n",
       "      <td>3</td>\n",
       "      <td>7MxiQ4v0EnE</td>\n",
       "      <td>17.14.11</td>\n",
       "      <td>Daang ( Full Video ) | Mankirt Aulakh | Sukh S...</td>\n",
       "      <td>Speed Records</td>\n",
       "      <td>10</td>\n",
       "      <td>2017-11-11T16:41:15.000Z</td>\n",
       "      <td>punjabi songs punjabi bhangra punjabi music pu...</td>\n",
       "      <td>5718766</td>\n",
       "      <td>127477</td>\n",
       "      <td>7134</td>\n",
       "      <td>8063</td>\n",
       "      <td>https://i.ytimg.com/vi/7MxiQ4v0EnE/default.jpg</td>\n",
       "      <td>False</td>\n",
       "      <td>False</td>\n",
       "      <td>False</td>\n",
       "      <td>Song - Daang\\nSinger - Mankirt Aulakh\\nFaceboo...</td>\n",
       "      <td>10</td>\n",
       "      <td>Music</td>\n",
       "      <td>True</td>\n",
       "    </tr>\n",
       "    <tr>\n",
       "      <td>4</td>\n",
       "      <td>j67FgNEvyh8</td>\n",
       "      <td>17.14.11</td>\n",
       "      <td>Telefoon || Babbu Maan || Promo || Full Song 1...</td>\n",
       "      <td>Hey Yolo</td>\n",
       "      <td>10</td>\n",
       "      <td>2017-11-12T04:24:34.000Z</td>\n",
       "      <td>Telefoon Babbu Maan Mehfil Mitran Di new punja...</td>\n",
       "      <td>178447</td>\n",
       "      <td>4339</td>\n",
       "      <td>96</td>\n",
       "      <td>876</td>\n",
       "      <td>https://i.ytimg.com/vi/j67FgNEvyh8/default.jpg</td>\n",
       "      <td>False</td>\n",
       "      <td>False</td>\n",
       "      <td>False</td>\n",
       "      <td>Full Song Out Now 15th November\\n\\nHey Yolo, S...</td>\n",
       "      <td>10</td>\n",
       "      <td>Music</td>\n",
       "      <td>True</td>\n",
       "    </tr>\n",
       "  </tbody>\n",
       "</table>\n",
       "</div>"
      ],
      "text/plain": [
       "      video_id trending_date  \\\n",
       "0  n1WpP7iowLc      17.14.11   \n",
       "1  2Vv-BfVoq4g      17.14.11   \n",
       "2  H1KBHFXm2Bg      17.14.11   \n",
       "3  7MxiQ4v0EnE      17.14.11   \n",
       "4  j67FgNEvyh8      17.14.11   \n",
       "\n",
       "                                               title  channel_title  \\\n",
       "0         Eminem - Walk On Water (Audio) ft. Beyoncé     EminemVEVO   \n",
       "1        Ed Sheeran - Perfect (Official Music Video)     Ed Sheeran   \n",
       "2    21 Savage - Bank Account (Official Music Video)      21 Savage   \n",
       "3  Daang ( Full Video ) | Mankirt Aulakh | Sukh S...  Speed Records   \n",
       "4  Telefoon || Babbu Maan || Promo || Full Song 1...       Hey Yolo   \n",
       "\n",
       "   category_id              publish_time  \\\n",
       "0           10  2017-11-10T17:00:03.000Z   \n",
       "1           10  2017-11-09T11:04:14.000Z   \n",
       "2           10  2017-11-10T19:00:02.000Z   \n",
       "3           10  2017-11-11T16:41:15.000Z   \n",
       "4           10  2017-11-12T04:24:34.000Z   \n",
       "\n",
       "                                                tags     views    likes  \\\n",
       "0  Eminem Walk On Water Aftermath/Shady/Interscop...  17158579   787425   \n",
       "1  edsheeran ed sheeran acoustic live cover offic...  33523622  1634130   \n",
       "2  21 savage bank account 21 savage bank account ...   5068229   263596   \n",
       "3  punjabi songs punjabi bhangra punjabi music pu...   5718766   127477   \n",
       "4  Telefoon Babbu Maan Mehfil Mitran Di new punja...    178447     4339   \n",
       "\n",
       "   dislikes  comment_count                                  thumbnail_link  \\\n",
       "0     43420         125882  https://i.ytimg.com/vi/n1WpP7iowLc/default.jpg   \n",
       "1     21082          85067  https://i.ytimg.com/vi/2Vv-BfVoq4g/default.jpg   \n",
       "2      8585          28976  https://i.ytimg.com/vi/H1KBHFXm2Bg/default.jpg   \n",
       "3      7134           8063  https://i.ytimg.com/vi/7MxiQ4v0EnE/default.jpg   \n",
       "4        96            876  https://i.ytimg.com/vi/j67FgNEvyh8/default.jpg   \n",
       "\n",
       "   comments_disabled  ratings_disabled  video_error_or_removed  \\\n",
       "0              False             False                   False   \n",
       "1              False             False                   False   \n",
       "2              False             False                   False   \n",
       "3              False             False                   False   \n",
       "4              False             False                   False   \n",
       "\n",
       "                                         description  Id Category  Assignable  \n",
       "0  Eminem's new track Walk on Water ft. Beyoncé i...  10    Music        True  \n",
       "1  🎧: https://ad.gt/yt-perfect\\n💰: https://atlant...  10    Music        True  \n",
       "2  Watch the official music video of Bank Account...  10    Music        True  \n",
       "3  Song - Daang\\nSinger - Mankirt Aulakh\\nFaceboo...  10    Music        True  \n",
       "4  Full Song Out Now 15th November\\n\\nHey Yolo, S...  10    Music        True  "
      ]
     },
     "execution_count": 3,
     "metadata": {},
     "output_type": "execute_result"
    }
   ],
   "source": [
    "countries = ['CA', 'GB', 'US']\n",
    "data = pd.DataFrame({})\n",
    "\n",
    "# Concatenating Data\n",
    "for country in countries:\n",
    "  \n",
    "    country_youtube_video_data_path = 'youtube-new/{}videos.csv'.format(country)\n",
    "    country_category_id_path ='youtube-new/{}_category_id.json'.format(country)\n",
    "    \n",
    "    country_category_id_data = json_to_df(country_category_id_path)\n",
    "    country_youtube_video_data = pd.read_csv(country_youtube_video_data_path)\n",
    "    \n",
    "    country_youtube_video_data['category_id'] = country_youtube_video_data['category_id'].astype(int)\n",
    "    \n",
    "    video_data_w_category = pd.merge(country_youtube_video_data, \n",
    "                                     country_category_id_data,\n",
    "                                     left_on = 'category_id',\n",
    "                                     right_on = 'Id')\n",
    "    \n",
    "    data = pd.concat([data, video_data_w_category])\n",
    "    \n",
    "data['tags'] = (data['tags']\n",
    "                .str\n",
    "                .replace('|', ' ')\n",
    "                .str\n",
    "                .replace('\"', '')\n",
    "               )\n",
    "data.head()"
   ]
  },
  {
   "cell_type": "code",
   "execution_count": 4,
   "metadata": {},
   "outputs": [
    {
     "data": {
      "text/html": [
       "<div>\n",
       "<style scoped>\n",
       "    .dataframe tbody tr th:only-of-type {\n",
       "        vertical-align: middle;\n",
       "    }\n",
       "\n",
       "    .dataframe tbody tr th {\n",
       "        vertical-align: top;\n",
       "    }\n",
       "\n",
       "    .dataframe thead th {\n",
       "        text-align: right;\n",
       "    }\n",
       "</style>\n",
       "<table border=\"1\" class=\"dataframe\">\n",
       "  <thead>\n",
       "    <tr style=\"text-align: right;\">\n",
       "      <th></th>\n",
       "      <th>Category</th>\n",
       "    </tr>\n",
       "  </thead>\n",
       "  <tbody>\n",
       "    <tr>\n",
       "      <td>Entertainment</td>\n",
       "      <td>32539</td>\n",
       "    </tr>\n",
       "    <tr>\n",
       "      <td>Music</td>\n",
       "      <td>23957</td>\n",
       "    </tr>\n",
       "    <tr>\n",
       "      <td>People &amp; Blogs</td>\n",
       "      <td>10241</td>\n",
       "    </tr>\n",
       "    <tr>\n",
       "      <td>Comedy</td>\n",
       "      <td>9058</td>\n",
       "    </tr>\n",
       "    <tr>\n",
       "      <td>Howto &amp; Style</td>\n",
       "      <td>8081</td>\n",
       "    </tr>\n",
       "    <tr>\n",
       "      <td>News &amp; Politics</td>\n",
       "      <td>7871</td>\n",
       "    </tr>\n",
       "    <tr>\n",
       "      <td>Film &amp; Animation</td>\n",
       "      <td>6982</td>\n",
       "    </tr>\n",
       "    <tr>\n",
       "      <td>Sports</td>\n",
       "      <td>6868</td>\n",
       "    </tr>\n",
       "    <tr>\n",
       "      <td>Science &amp; Technology</td>\n",
       "      <td>4074</td>\n",
       "    </tr>\n",
       "    <tr>\n",
       "      <td>Gaming</td>\n",
       "      <td>3949</td>\n",
       "    </tr>\n",
       "    <tr>\n",
       "      <td>Education</td>\n",
       "      <td>3104</td>\n",
       "    </tr>\n",
       "    <tr>\n",
       "      <td>Pets &amp; Animals</td>\n",
       "      <td>1823</td>\n",
       "    </tr>\n",
       "    <tr>\n",
       "      <td>Travel &amp; Events</td>\n",
       "      <td>890</td>\n",
       "    </tr>\n",
       "    <tr>\n",
       "      <td>Autos &amp; Vehicles</td>\n",
       "      <td>881</td>\n",
       "    </tr>\n",
       "    <tr>\n",
       "      <td>Nonprofits &amp; Activism</td>\n",
       "      <td>57</td>\n",
       "    </tr>\n",
       "  </tbody>\n",
       "</table>\n",
       "</div>"
      ],
      "text/plain": [
       "                       Category\n",
       "Entertainment             32539\n",
       "Music                     23957\n",
       "People & Blogs            10241\n",
       "Comedy                     9058\n",
       "Howto & Style              8081\n",
       "News & Politics            7871\n",
       "Film & Animation           6982\n",
       "Sports                     6868\n",
       "Science & Technology       4074\n",
       "Gaming                     3949\n",
       "Education                  3104\n",
       "Pets & Animals             1823\n",
       "Travel & Events             890\n",
       "Autos & Vehicles            881\n",
       "Nonprofits & Activism        57"
      ]
     },
     "execution_count": 4,
     "metadata": {},
     "output_type": "execute_result"
    }
   ],
   "source": [
    "data['Category'].value_counts().to_frame()"
   ]
  },
  {
   "cell_type": "code",
   "execution_count": 5,
   "metadata": {},
   "outputs": [
    {
     "name": "stdout",
     "output_type": "stream",
     "text": [
      "Dataset Length: 120375 Training Data Length: 90281 Number of Response Categories: 15\n"
     ]
    }
   ],
   "source": [
    "le = LabelEncoder()\n",
    "X, y = data.drop(['Category'], axis = 1), data['Category']\n",
    "\n",
    "X_train, X_test, y_train, y_test = train_test_split(X, y, shuffle = True)\n",
    "\n",
    "print('Dataset Length: {}'.format(len(X)),'Training Data Length: {}'.format(len(X_train)),'Number of Response Categories: {}'.format(len(np.unique(y_train))))"
   ]
  },
  {
   "cell_type": "code",
   "execution_count": 6,
   "metadata": {},
   "outputs": [],
   "source": [
    "# Dictionary to store different models' performances\n",
    "model_dict = {'Model':[], 'Training Acc.':[], 'Validation Acc.':[]}\n",
    "\n",
    "# Return training error and validation error for model\n",
    "def get_train_val_acc(model):\n",
    "    scorer = make_scorer(accuracy_score)\n",
    "    \n",
    "    model.fit(X_train, y_train)\n",
    "\n",
    "    preds = model.predict(X_train)\n",
    "    training_acc = accuracy_score(y_train, preds)\n",
    "    val_acc = np.mean(cross_val_score(model, X_train, y_train, scoring = scorer, cv = 5))\n",
    "\n",
    "    return training_acc, val_acc, preds"
   ]
  },
  {
   "cell_type": "markdown",
   "metadata": {},
   "source": [
    "# Logistic Text-based Model"
   ]
  },
  {
   "cell_type": "code",
   "execution_count": 7,
   "metadata": {},
   "outputs": [
    {
     "data": {
      "text/plain": [
       "Pipeline(memory=None,\n",
       "         steps=[('Columns',\n",
       "                 ColumnTransformer(n_jobs=None, remainder='drop',\n",
       "                                   sparse_threshold=0.3,\n",
       "                                   transformer_weights=None,\n",
       "                                   transformers=[('keep', 'passthrough',\n",
       "                                                  ['title', 'tags',\n",
       "                                                   'description',\n",
       "                                                   'channel_title'])],\n",
       "                                   verbose=False)),\n",
       "                ('Imputation',\n",
       "                 SimpleImputer(add_indicator=False, copy=True, fill_value='',\n",
       "                               missing_values=nan, strategy='constant',\n",
       "                               verbos...\n",
       "                                  sublinear_tf=False, use_idf=True)),\n",
       "                ('Model Text',\n",
       "                 LogisticRegressionCV(Cs=[0.001, 0.002, 0.005, 0.01, 0.02, 0.05,\n",
       "                                          0.1, 0.2, 0.5, 1, 2, 5, 10],\n",
       "                                      class_weight=None, cv='warn', dual=False,\n",
       "                                      fit_intercept=True, intercept_scaling=1.0,\n",
       "                                      l1_ratios=None, max_iter=100,\n",
       "                                      multi_class='multinomial', n_jobs=None,\n",
       "                                      penalty='l2', random_state=None,\n",
       "                                      refit=True, scoring=None, solver='sag',\n",
       "                                      tol=0.0001, verbose=0))],\n",
       "         verbose=False)"
      ]
     },
     "execution_count": 7,
     "metadata": {},
     "output_type": "execute_result"
    }
   ],
   "source": [
    "cols = ['title', 'tags', 'description', 'channel_title']\n",
    "Cs = [0.001, 0.002, 0.005, 0.01, 0.02, 0.05, 0.1, 0.2, 0.5, 1, 2, 5, 10]\n",
    "\n",
    "# Data Pipeline for Logistic text-based model\n",
    "model_text_logistic = Pipeline([\n",
    "    ('Columns', ColumnTransformer([\n",
    "        ('keep', 'passthrough', cols)\n",
    "    ])),\n",
    "    ('Imputation', SimpleImputer(strategy = 'constant', fill_value = '')),\n",
    "    ('Bag of Words', ColumnTransformer([\n",
    "        (cols[0], CountVectorizer(stop_words = 'english'), 0),\n",
    "        (cols[1], CountVectorizer(stop_words = 'english'), 1),\n",
    "        (cols[2], CountVectorizer(stop_words = 'english'), 2),\n",
    "        (cols[3], CountVectorizer(stop_words = 'english'), 3)\n",
    "    ])),\n",
    "    ('TF-IDF', TfidfTransformer()),\n",
    "    ('Model Text', LogisticRegressionCV(Cs = Cs, multi_class = 'multinomial', solver = 'sag'))\n",
    "])\n",
    "\n",
    "model_text_logistic"
   ]
  },
  {
   "cell_type": "code",
   "execution_count": 8,
   "metadata": {
    "scrolled": true
   },
   "outputs": [
    {
     "name": "stderr",
     "output_type": "stream",
     "text": [
      "/opt/anaconda3/lib/python3.7/site-packages/sklearn/model_selection/_split.py:1978: FutureWarning: The default value of cv will change from 3 to 5 in version 0.22. Specify it explicitly to silence this warning.\n",
      "  warnings.warn(CV_WARNING, FutureWarning)\n",
      "/opt/anaconda3/lib/python3.7/site-packages/sklearn/model_selection/_split.py:1978: FutureWarning: The default value of cv will change from 3 to 5 in version 0.22. Specify it explicitly to silence this warning.\n",
      "  warnings.warn(CV_WARNING, FutureWarning)\n",
      "/opt/anaconda3/lib/python3.7/site-packages/sklearn/model_selection/_split.py:1978: FutureWarning: The default value of cv will change from 3 to 5 in version 0.22. Specify it explicitly to silence this warning.\n",
      "  warnings.warn(CV_WARNING, FutureWarning)\n",
      "/opt/anaconda3/lib/python3.7/site-packages/sklearn/model_selection/_split.py:1978: FutureWarning: The default value of cv will change from 3 to 5 in version 0.22. Specify it explicitly to silence this warning.\n",
      "  warnings.warn(CV_WARNING, FutureWarning)\n",
      "/opt/anaconda3/lib/python3.7/site-packages/sklearn/model_selection/_split.py:1978: FutureWarning: The default value of cv will change from 3 to 5 in version 0.22. Specify it explicitly to silence this warning.\n",
      "  warnings.warn(CV_WARNING, FutureWarning)\n",
      "/opt/anaconda3/lib/python3.7/site-packages/sklearn/model_selection/_split.py:1978: FutureWarning: The default value of cv will change from 3 to 5 in version 0.22. Specify it explicitly to silence this warning.\n",
      "  warnings.warn(CV_WARNING, FutureWarning)\n"
     ]
    },
    {
     "name": "stdout",
     "output_type": "stream",
     "text": [
      "Training Accuracy of Logistic Model: 0.9983052912572966\n",
      "Validation Accuracy of Logistic Model: 0.9764623720202744\n",
      "\n",
      "CPU times: user 1h 14min 14s, sys: 59 s, total: 1h 15min 13s\n",
      "Wall time: 1h 18min 56s\n"
     ]
    }
   ],
   "source": [
    "%%time\n",
    "\n",
    "# Get training and validation accuracy of Logistic Model\n",
    "logistic_train_acc, logistic_val_acc, logistic_preds = get_train_val_acc(model_text_logistic)\n",
    "\n",
    "print('Training Accuracy of Logistic Model: {}'.format(logistic_train_acc))\n",
    "print('Validation Accuracy of Logistic Model: {}'.format(logistic_val_acc))\n",
    "print()"
   ]
  },
  {
   "cell_type": "code",
   "execution_count": 10,
   "metadata": {},
   "outputs": [],
   "source": [
    "# Add logistic model's performance to the model dictionary\n",
    "model_dict['Model'].append('Logistic Model')\n",
    "model_dict['Training Acc.'].append(logistic_train_acc)\n",
    "model_dict['Validation Acc.'].append(logistic_val_acc)"
   ]
  },
  {
   "cell_type": "code",
   "execution_count": 18,
   "metadata": {
    "scrolled": false
   },
   "outputs": [
    {
     "name": "stderr",
     "output_type": "stream",
     "text": [
      "/opt/anaconda3/lib/python3.7/site-packages/yellowbrick/classifier/base.py:232: YellowbrickWarning: could not determine class_counts_ from previously fitted classifier\n",
      "  YellowbrickWarning,\n"
     ]
    },
    {
     "data": {
      "image/png": "[encoded data removed]",
      "text/plain": [
       "<Figure size 432x288 with 1 Axes>"
      ]
     },
     "metadata": {
      "needs_background": "light"
     },
     "output_type": "display_data"
    }
   ],
   "source": [
    "logistic_confusion_matrix = ConfusionMatrix(model_text_logistic, classes = np.unique(data['Category']))\n",
    "logistic_confusion_matrix.score(X_test, y_test)\n",
    "\n",
    "logistic_confusion_matrix.show();"
   ]
  },
  {
   "cell_type": "markdown",
   "metadata": {},
   "source": [
    "# Random Forest Text-based Model"
   ]
  },
  {
   "cell_type": "code",
   "execution_count": 11,
   "metadata": {},
   "outputs": [
    {
     "data": {
      "text/plain": [
       "Pipeline(memory=None,\n",
       "         steps=[('Columns',\n",
       "                 ColumnTransformer(n_jobs=None, remainder='drop',\n",
       "                                   sparse_threshold=0.3,\n",
       "                                   transformer_weights=None,\n",
       "                                   transformers=[('keep', 'passthrough',\n",
       "                                                  ['title', 'tags',\n",
       "                                                   'description',\n",
       "                                                   'channel_title'])],\n",
       "                                   verbose=False)),\n",
       "                ('Imputation',\n",
       "                 SimpleImputer(add_indicator=False, copy=True, fill_value='',\n",
       "                               missing_values=nan, strategy='constant',\n",
       "                               verbos...\n",
       "                 RandomForestClassifier(bootstrap=True, class_weight=None,\n",
       "                                        criterion='gini', max_depth=None,\n",
       "                                        max_features='auto',\n",
       "                                        max_leaf_nodes=None,\n",
       "                                        min_impurity_decrease=0.0,\n",
       "                                        min_impurity_split=None,\n",
       "                                        min_samples_leaf=1, min_samples_split=2,\n",
       "                                        min_weight_fraction_leaf=0.0,\n",
       "                                        n_estimators=200, n_jobs=None,\n",
       "                                        oob_score=False, random_state=None,\n",
       "                                        verbose=0, warm_start=False))],\n",
       "         verbose=False)"
      ]
     },
     "execution_count": 11,
     "metadata": {},
     "output_type": "execute_result"
    }
   ],
   "source": [
    "cols = ['title', 'tags', 'description', 'channel_title']\n",
    "\n",
    "# Data Pipeline for Random Forest text-based model\n",
    "model_text_rf = Pipeline([\n",
    "    ('Columns', ColumnTransformer([\n",
    "        ('keep', 'passthrough', cols)\n",
    "    ])),\n",
    "    ('Imputation', SimpleImputer(strategy = 'constant', fill_value = '')),\n",
    "    ('Bag of Words', ColumnTransformer([\n",
    "        (cols[0], CountVectorizer(stop_words = 'english'), 0),\n",
    "        (cols[1], CountVectorizer(stop_words = 'english'), 1),\n",
    "        (cols[2], CountVectorizer(stop_words = 'english'), 2),\n",
    "        (cols[3], CountVectorizer(stop_words = 'english'), 3)\n",
    "    ])),\n",
    "    ('TF-IDF', TfidfTransformer()),\n",
    "    ('Model Text', RandomForestClassifier(n_estimators = 200))\n",
    "])\n",
    "\n",
    "model_text_rf"
   ]
  },
  {
   "cell_type": "code",
   "execution_count": 12,
   "metadata": {},
   "outputs": [
    {
     "name": "stdout",
     "output_type": "stream",
     "text": [
      "Training Accuracy of Logistic Model: 0.9994794031966859\n",
      "Validation Accuracy of Logistic Model: 0.9721314130254198\n",
      "\n",
      "CPU times: user 1h 29min 31s, sys: 25.6 s, total: 1h 29min 57s\n",
      "Wall time: 1h 31min 24s\n"
     ]
    }
   ],
   "source": [
    "%%time\n",
    "\n",
    "# Get training and validation accuracy of Random Forest Model\n",
    "rf_train_acc, rf_val_acc, rf_preds = get_train_val_acc(model_text_rf)\n",
    "\n",
    "print('Training Accuracy of Logistic Model: {}'.format(rf_train_acc))\n",
    "print('Validation Accuracy of Logistic Model: {}'.format(rf_val_acc))\n",
    "print()"
   ]
  },
  {
   "cell_type": "code",
   "execution_count": 13,
   "metadata": {},
   "outputs": [],
   "source": [
    "# Add random forest model's performance to the model dictionary\n",
    "model_dict['Model'].append('Random Forest Model')\n",
    "model_dict['Training Acc.'].append(rf_train_acc)\n",
    "model_dict['Validation Acc.'].append(rf_val_acc)"
   ]
  },
  {
   "cell_type": "code",
   "execution_count": 17,
   "metadata": {},
   "outputs": [
    {
     "name": "stderr",
     "output_type": "stream",
     "text": [
      "/opt/anaconda3/lib/python3.7/site-packages/yellowbrick/classifier/base.py:232: YellowbrickWarning: could not determine class_counts_ from previously fitted classifier\n",
      "  YellowbrickWarning,\n"
     ]
    },
    {
     "data": {
      "image/png": "[encoded data removed]",
      "text/plain": [
       "<Figure size 432x288 with 1 Axes>"
      ]
     },
     "metadata": {
      "needs_background": "light"
     },
     "output_type": "display_data"
    }
   ],
   "source": [
    "rf_confusion_matrix = ConfusionMatrix(model_text_rf, classes = np.unique(data['Category']))\n",
    "rf_confusion_matrix.score(X_test, y_test)\n",
    "\n",
    "rf_confusion_matrix.show();"
   ]
  },
  {
   "cell_type": "markdown",
   "metadata": {},
   "source": [
    "# Model Performances"
   ]
  },
  {
   "cell_type": "code",
   "execution_count": 43,
   "metadata": {},
   "outputs": [
    {
     "data": {
      "text/html": [
       "<div>\n",
       "<style scoped>\n",
       "    .dataframe tbody tr th:only-of-type {\n",
       "        vertical-align: middle;\n",
       "    }\n",
       "\n",
       "    .dataframe tbody tr th {\n",
       "        vertical-align: top;\n",
       "    }\n",
       "\n",
       "    .dataframe thead th {\n",
       "        text-align: right;\n",
       "    }\n",
       "</style>\n",
       "<table border=\"1\" class=\"dataframe\">\n",
       "  <thead>\n",
       "    <tr style=\"text-align: right;\">\n",
       "      <th></th>\n",
       "      <th>Model</th>\n",
       "      <th>Training Acc.</th>\n",
       "      <th>Validation Acc.</th>\n",
       "    </tr>\n",
       "  </thead>\n",
       "  <tbody>\n",
       "    <tr>\n",
       "      <td>Logistic Model</td>\n",
       "      <td>Logistic Model</td>\n",
       "      <td>0.998305</td>\n",
       "      <td>0.976462</td>\n",
       "    </tr>\n",
       "    <tr>\n",
       "      <td>Random Forest Model</td>\n",
       "      <td>Random Forest Model</td>\n",
       "      <td>0.999479</td>\n",
       "      <td>0.972131</td>\n",
       "    </tr>\n",
       "  </tbody>\n",
       "</table>\n",
       "</div>"
      ],
      "text/plain": [
       "                                   Model  Training Acc.  Validation Acc.\n",
       "Logistic Model            Logistic Model       0.998305         0.976462\n",
       "Random Forest Model  Random Forest Model       0.999479         0.972131"
      ]
     },
     "execution_count": 43,
     "metadata": {},
     "output_type": "execute_result"
    }
   ],
   "source": [
    "model_performance = pd.DataFrame(model_dict, index = model_dict['Model'])\n",
    "model_performance"
   ]
  },
  {
   "cell_type": "code",
   "execution_count": 61,
   "metadata": {},
   "outputs": [
    {
     "data": {
      "text/plain": [
       "<matplotlib.axes._subplots.AxesSubplot at 0x15a9b5490>"
      ]
     },
     "execution_count": 61,
     "metadata": {},
     "output_type": "execute_result"
    },
    {
     "data": {
      "image/png": "[encoded data removed]",
      "text/plain": [
       "<Figure size 720x468 with 1 Axes>"
      ]
     },
     "metadata": {
      "needs_background": "light"
     },
     "output_type": "display_data"
    }
   ],
   "source": [
    "model_performance.plot.bar(x = 'Model',by = model_performance['Model'], figsize = (10,6.5), title = 'Model Performances')"
   ]
  },
  {
   "cell_type": "code",
   "execution_count": 46,
   "metadata": {},
   "outputs": [],
   "source": []
  },
  {
   "cell_type": "code",
   "execution_count": null,
   "metadata": {},
   "outputs": [],
   "source": []
  }
 ],
 "metadata": {
  "kernelspec": {
   "display_name": "Python 3",
   "language": "python",
   "name": "python3"
  },
  "language_info": {
   "codemirror_mode": {
    "name": "ipython",
    "version": 3
   },
   "file_extension": ".py",
   "mimetype": "text/x-python",
   "name": "python",
   "nbconvert_exporter": "python",
   "pygments_lexer": "ipython3",
   "version": "3.7.4"
  },
  "name": "Youtube Video Classification",
  "notebookId": 1849152751397131
 },
 "nbformat": 4,
 "nbformat_minor": 1
}
