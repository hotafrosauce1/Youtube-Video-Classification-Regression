{
  "nbformat": 4,
  "nbformat_minor": 0,
  "metadata": {
    "kernelspec": {
      "display_name": "Python 3",
      "language": "python",
      "name": "python3"
    },
    "language_info": {
      "codemirror_mode": {
        "name": "ipython",
        "version": 3
      },
      "file_extension": ".py",
      "mimetype": "text/x-python",
      "name": "python",
      "nbconvert_exporter": "python",
      "pygments_lexer": "ipython3",
      "version": "3.7.4"
    },
    "name": "Youtube Video Classification",
    "notebookId": 1849152751397131,
    "colab": {
      "name": "Youtube Video Classification.ipynb",
      "provenance": [],
      "machine_shape": "hm",
      "include_colab_link": true
    }
  },
  "cells": [
    {
      "cell_type": "markdown",
      "metadata": {
        "id": "view-in-github",
        "colab_type": "text"
      },
      "source": [
        "<a href=\"https://colab.research.google.com/github/hotafrosauce1/Youtube-Video-Classification-Regression/blob/master/Youtube_Video_Classification.ipynb\" target=\"_parent\"><img src=\"https://colab.research.google.com/assets/colab-badge.svg\" alt=\"Open In Colab\"/></a>"
      ]
    },
    {
      "cell_type": "code",
      "metadata": {
        "id": "G0ZPMVkg96DC",
        "colab_type": "code",
        "colab": {}
      },
      "source": [
        "# dbutils.library.installPyPI(\"keras\")\n",
        "# dbutils.library.installPyPI(\"tensorflow\")\n",
        "# dbutils.library.installPyPI(\"image\")\n",
        "\n",
        "# dbutils.library.restartPython()"
      ],
      "execution_count": 0,
      "outputs": []
    },
    {
      "cell_type": "code",
      "metadata": {
        "id": "qG_7Y6Fl96DH",
        "colab_type": "code",
        "colab": {
          "base_uri": "https://localhost:8080/",
          "height": 66
        },
        "outputId": "427c20a8-0757-43d5-9e69-16a2ce06cb7f"
      },
      "source": [
        "# Standard Imports\n",
        "import numpy as np\n",
        "import matplotlib.pyplot as plt\n",
        "import seaborn as sns\n",
        "import pandas as pd\n",
        "\n",
        "# Pipelines for training and evaluating model\n",
        "from sklearn.pipeline import Pipeline\n",
        "\n",
        "# Preprocessing/Feature Extraction\n",
        "from sklearn.impute import SimpleImputer\n",
        "from sklearn.preprocessing import FunctionTransformer\n",
        "from sklearn.preprocessing import LabelEncoder\n",
        "from sklearn.feature_extraction.text import CountVectorizer\n",
        "from sklearn.feature_extraction.text import TfidfTransformer\n",
        "from sklearn.compose import ColumnTransformer\n",
        "from sklearn.preprocessing import StandardScaler\n",
        "\n",
        "# Models \n",
        "from sklearn.linear_model import LogisticRegression\n",
        "from sklearn.model_selection import train_test_split\n",
        "from sklearn.model_selection import cross_val_score\n",
        "\n",
        "import keras\n",
        "from keras.models import Sequential\n",
        "from keras.layers import Conv2D\n",
        "from keras.layers import Dropout\n",
        "from keras.layers import Dense\n",
        "from keras.layers import Flatten\n",
        "from keras.optimizers import SGD\n",
        "\n",
        "# Scoring\n",
        "from sklearn.metrics import accuracy_score\n",
        "from sklearn.metrics import make_scorer\n",
        "\n",
        "import requests\n",
        "from PIL import Image\n",
        "from io import BytesIO\n",
        "from keras.wrappers.scikit_learn import KerasClassifier\n",
        "from keras.backend import clear_session"
      ],
      "execution_count": 1,
      "outputs": [
        {
          "output_type": "stream",
          "text": [
            "/usr/local/lib/python3.6/dist-packages/statsmodels/tools/_testing.py:19: FutureWarning: pandas.util.testing is deprecated. Use the functions in the public API at pandas.testing instead.\n",
            "  import pandas.util.testing as tm\n",
            "Using TensorFlow backend.\n"
          ],
          "name": "stderr"
        }
      ]
    },
    {
      "cell_type": "code",
      "metadata": {
        "id": "yCxHwzxa96DL",
        "colab_type": "code",
        "colab": {}
      },
      "source": [
        "# Converts JSON dictionary of Video Category Ids for \n",
        "# a given country into a DataFrame\n",
        "def json_to_df(path):\n",
        "    f = lambda x: x.loc['items']['snippet']['title']\n",
        "    g = lambda x: x.loc['items']['snippet']['assignable']\n",
        "    h = lambda x: x.loc['items']['id']\n",
        "    \n",
        "    df = pd.read_json(path)\n",
        "    df['Category'] = df.apply(f, axis = 1)\n",
        "    df['Assignable'] = df.apply(g, axis = 1)\n",
        "    df['Id'] = df.apply(h, axis = 1)\n",
        "    df['Id'] = df['Id'].astype(int)\n",
        "    \n",
        "    cols = ['Id', 'Category', 'Assignable']\n",
        "    \n",
        "    df = df[cols]\n",
        "    \n",
        "    return df[df['Assignable']]"
      ],
      "execution_count": 0,
      "outputs": []
    },
    {
      "cell_type": "code",
      "metadata": {
        "id": "_efTyw6S96DO",
        "colab_type": "code",
        "colab": {
          "base_uri": "https://localhost:8080/",
          "height": 49
        },
        "outputId": "f6bf9126-5da9-4087-b3fc-077fc036d004"
      },
      "source": [
        "%%time\n",
        "\n",
        "countries = ['CA', 'GB', 'US']\n",
        "data = pd.DataFrame({})\n",
        "\n",
        "# Concatenating Data\n",
        "for country in countries:\n",
        "  \n",
        "    country_youtube_video_data_path = '{}videos.csv'.format(country)\n",
        "    country_category_id_path ='{}_category_id.json'.format(country)\n",
        "    \n",
        "    country_category_id_data = json_to_df(country_category_id_path)\n",
        "    country_youtube_video_data = pd.read_csv(country_youtube_video_data_path)\n",
        "    \n",
        "    country_youtube_video_data['category_id'] = country_youtube_video_data['category_id'].astype(int)\n",
        "    \n",
        "    video_data_w_category = pd.merge(country_youtube_video_data, \n",
        "                                     country_category_id_data,\n",
        "                                     left_on = 'category_id',\n",
        "                                     right_on = 'Id')\n",
        "    \n",
        "    data = pd.concat([data, video_data_w_category])\n",
        "    \n",
        "data.head()"
      ],
      "execution_count": 3,
      "outputs": [
        {
          "output_type": "stream",
          "text": [
            "CPU times: user 1.69 s, sys: 190 ms, total: 1.88 s\n",
            "Wall time: 4.32 s\n"
          ],
          "name": "stdout"
        }
      ]
    },
    {
      "cell_type": "code",
      "metadata": {
        "id": "M1ETgIhn96DT",
        "colab_type": "code",
        "colab": {
          "base_uri": "https://localhost:8080/",
          "height": 687
        },
        "outputId": "6b0937e5-de00-4ffd-abcc-7be63f686fa7"
      },
      "source": [
        "data.head()"
      ],
      "execution_count": 4,
      "outputs": [
        {
          "output_type": "execute_result",
          "data": {
            "text/html": [
              "<div>\n",
              "<style scoped>\n",
              "    .dataframe tbody tr th:only-of-type {\n",
              "        vertical-align: middle;\n",
              "    }\n",
              "\n",
              "    .dataframe tbody tr th {\n",
              "        vertical-align: top;\n",
              "    }\n",
              "\n",
              "    .dataframe thead th {\n",
              "        text-align: right;\n",
              "    }\n",
              "</style>\n",
              "<table border=\"1\" class=\"dataframe\">\n",
              "  <thead>\n",
              "    <tr style=\"text-align: right;\">\n",
              "      <th></th>\n",
              "      <th>video_id</th>\n",
              "      <th>trending_date</th>\n",
              "      <th>title</th>\n",
              "      <th>channel_title</th>\n",
              "      <th>category_id</th>\n",
              "      <th>publish_time</th>\n",
              "      <th>tags</th>\n",
              "      <th>views</th>\n",
              "      <th>likes</th>\n",
              "      <th>dislikes</th>\n",
              "      <th>comment_count</th>\n",
              "      <th>thumbnail_link</th>\n",
              "      <th>comments_disabled</th>\n",
              "      <th>ratings_disabled</th>\n",
              "      <th>video_error_or_removed</th>\n",
              "      <th>description</th>\n",
              "      <th>Id</th>\n",
              "      <th>Category</th>\n",
              "      <th>Assignable</th>\n",
              "    </tr>\n",
              "  </thead>\n",
              "  <tbody>\n",
              "    <tr>\n",
              "      <th>0</th>\n",
              "      <td>n1WpP7iowLc</td>\n",
              "      <td>17.14.11</td>\n",
              "      <td>Eminem - Walk On Water (Audio) ft. Beyoncé</td>\n",
              "      <td>EminemVEVO</td>\n",
              "      <td>10</td>\n",
              "      <td>2017-11-10T17:00:03.000Z</td>\n",
              "      <td>Eminem|\"Walk\"|\"On\"|\"Water\"|\"Aftermath/Shady/In...</td>\n",
              "      <td>17158579</td>\n",
              "      <td>787425</td>\n",
              "      <td>43420</td>\n",
              "      <td>125882</td>\n",
              "      <td>https://i.ytimg.com/vi/n1WpP7iowLc/default.jpg</td>\n",
              "      <td>False</td>\n",
              "      <td>False</td>\n",
              "      <td>False</td>\n",
              "      <td>Eminem's new track Walk on Water ft. Beyoncé i...</td>\n",
              "      <td>10</td>\n",
              "      <td>Music</td>\n",
              "      <td>True</td>\n",
              "    </tr>\n",
              "    <tr>\n",
              "      <th>1</th>\n",
              "      <td>2Vv-BfVoq4g</td>\n",
              "      <td>17.14.11</td>\n",
              "      <td>Ed Sheeran - Perfect (Official Music Video)</td>\n",
              "      <td>Ed Sheeran</td>\n",
              "      <td>10</td>\n",
              "      <td>2017-11-09T11:04:14.000Z</td>\n",
              "      <td>edsheeran|\"ed sheeran\"|\"acoustic\"|\"live\"|\"cove...</td>\n",
              "      <td>33523622</td>\n",
              "      <td>1634130</td>\n",
              "      <td>21082</td>\n",
              "      <td>85067</td>\n",
              "      <td>https://i.ytimg.com/vi/2Vv-BfVoq4g/default.jpg</td>\n",
              "      <td>False</td>\n",
              "      <td>False</td>\n",
              "      <td>False</td>\n",
              "      <td>🎧: https://ad.gt/yt-perfect\\n💰: https://atlant...</td>\n",
              "      <td>10</td>\n",
              "      <td>Music</td>\n",
              "      <td>True</td>\n",
              "    </tr>\n",
              "    <tr>\n",
              "      <th>2</th>\n",
              "      <td>H1KBHFXm2Bg</td>\n",
              "      <td>17.14.11</td>\n",
              "      <td>21 Savage - Bank Account (Official Music Video)</td>\n",
              "      <td>21 Savage</td>\n",
              "      <td>10</td>\n",
              "      <td>2017-11-10T19:00:02.000Z</td>\n",
              "      <td>21 savage|\"bank account\"|\"21 savage bank accou...</td>\n",
              "      <td>5068229</td>\n",
              "      <td>263596</td>\n",
              "      <td>8585</td>\n",
              "      <td>28976</td>\n",
              "      <td>https://i.ytimg.com/vi/H1KBHFXm2Bg/default.jpg</td>\n",
              "      <td>False</td>\n",
              "      <td>False</td>\n",
              "      <td>False</td>\n",
              "      <td>Watch the official music video of Bank Account...</td>\n",
              "      <td>10</td>\n",
              "      <td>Music</td>\n",
              "      <td>True</td>\n",
              "    </tr>\n",
              "    <tr>\n",
              "      <th>3</th>\n",
              "      <td>7MxiQ4v0EnE</td>\n",
              "      <td>17.14.11</td>\n",
              "      <td>Daang ( Full Video ) | Mankirt Aulakh | Sukh S...</td>\n",
              "      <td>Speed Records</td>\n",
              "      <td>10</td>\n",
              "      <td>2017-11-11T16:41:15.000Z</td>\n",
              "      <td>punjabi songs|\"punjabi bhangra\"|\"punjabi music...</td>\n",
              "      <td>5718766</td>\n",
              "      <td>127477</td>\n",
              "      <td>7134</td>\n",
              "      <td>8063</td>\n",
              "      <td>https://i.ytimg.com/vi/7MxiQ4v0EnE/default.jpg</td>\n",
              "      <td>False</td>\n",
              "      <td>False</td>\n",
              "      <td>False</td>\n",
              "      <td>Song - Daang\\nSinger - Mankirt Aulakh\\nFaceboo...</td>\n",
              "      <td>10</td>\n",
              "      <td>Music</td>\n",
              "      <td>True</td>\n",
              "    </tr>\n",
              "    <tr>\n",
              "      <th>4</th>\n",
              "      <td>j67FgNEvyh8</td>\n",
              "      <td>17.14.11</td>\n",
              "      <td>Telefoon || Babbu Maan || Promo || Full Song 1...</td>\n",
              "      <td>Hey Yolo</td>\n",
              "      <td>10</td>\n",
              "      <td>2017-11-12T04:24:34.000Z</td>\n",
              "      <td>Telefoon|\"Babbu Maan\"|\"Mehfil Mitran Di\"|\"new ...</td>\n",
              "      <td>178447</td>\n",
              "      <td>4339</td>\n",
              "      <td>96</td>\n",
              "      <td>876</td>\n",
              "      <td>https://i.ytimg.com/vi/j67FgNEvyh8/default.jpg</td>\n",
              "      <td>False</td>\n",
              "      <td>False</td>\n",
              "      <td>False</td>\n",
              "      <td>Full Song Out Now 15th November\\n\\nHey Yolo, S...</td>\n",
              "      <td>10</td>\n",
              "      <td>Music</td>\n",
              "      <td>True</td>\n",
              "    </tr>\n",
              "  </tbody>\n",
              "</table>\n",
              "</div>"
            ],
            "text/plain": [
              "      video_id trending_date  ... Category Assignable\n",
              "0  n1WpP7iowLc      17.14.11  ...    Music       True\n",
              "1  2Vv-BfVoq4g      17.14.11  ...    Music       True\n",
              "2  H1KBHFXm2Bg      17.14.11  ...    Music       True\n",
              "3  7MxiQ4v0EnE      17.14.11  ...    Music       True\n",
              "4  j67FgNEvyh8      17.14.11  ...    Music       True\n",
              "\n",
              "[5 rows x 19 columns]"
            ]
          },
          "metadata": {
            "tags": []
          },
          "execution_count": 4
        }
      ]
    },
    {
      "cell_type": "code",
      "metadata": {
        "id": "QHqcSnWB96DW",
        "colab_type": "code",
        "colab": {
          "base_uri": "https://localhost:8080/",
          "height": 33
        },
        "outputId": "34b0c68a-717c-4ba3-b2a8-ee00249c88a8"
      },
      "source": [
        "le = LabelEncoder()\n",
        "X, y = data.drop(['Category'], axis = 1), data['Category']\n",
        "y = le.fit_transform(y)\n",
        "\n",
        "X_train, X_test, y_train, y_test = train_test_split(X, y, shuffle = True, random_state = 420)\n",
        "\n",
        "print('Dataset Length: {}'.format(len(X)),'Training Data Length: {}'.format(len(X_train)),'Number of Response Categories: {}'.format(len(np.unique(y_train))))"
      ],
      "execution_count": 5,
      "outputs": [
        {
          "output_type": "stream",
          "text": [
            "Dataset Length: 120375 Training Data Length: 90281 Number of Response Categories: 15\n"
          ],
          "name": "stdout"
        }
      ]
    },
    {
      "cell_type": "code",
      "metadata": {
        "id": "XvFmWYUF96DZ",
        "colab_type": "code",
        "colab": {
          "base_uri": "https://localhost:8080/",
          "height": 49
        },
        "outputId": "ded099d5-fc46-4177-8a95-4253dcfb1765"
      },
      "source": [
        "%%time\n",
        "\n",
        "def get_thumbnail(url): \n",
        "    r = requests.get(url).content\n",
        "    img_data = Image.open(BytesIO(r))\n",
        "    img_data = img_data.resize((50, 50))\n",
        "    \n",
        "    return np.array(img_data).reshape(1, 50, 50, 3)\n",
        "\n",
        "# Download the Video thumbnails to use to predict video's category\n",
        "img_data = X_train['thumbnail_link'].map(get_thumbnail)\n",
        "\n",
        "img_data.head()"
      ],
      "execution_count": 7,
      "outputs": [
        {
          "output_type": "stream",
          "text": [
            "CPU times: user 16min 58s, sys: 50.3 s, total: 17min 49s\n",
            "Wall time: 26min 50s\n"
          ],
          "name": "stdout"
        }
      ]
    },
    {
      "cell_type": "code",
      "metadata": {
        "id": "CWKmrj4096Dc",
        "colab_type": "code",
        "colab": {
          "base_uri": "https://localhost:8080/",
          "height": 33
        },
        "outputId": "36f8ed1c-af73-4103-e078-257f69304bdd"
      },
      "source": [
        "# Change shape of training data so it can be fed into model\n",
        "img_data = np.concatenate([img_data.iloc[i] for i in range(len(img_data))])\n",
        "img_data.shape"
      ],
      "execution_count": 8,
      "outputs": [
        {
          "output_type": "execute_result",
          "data": {
            "text/plain": [
              "(90281, 50, 50, 3)"
            ]
          },
          "metadata": {
            "tags": []
          },
          "execution_count": 8
        }
      ]
    },
    {
      "cell_type": "code",
      "metadata": {
        "id": "s40R7S9Q96Df",
        "colab_type": "code",
        "colab": {
          "base_uri": "https://localhost:8080/",
          "height": 132
        },
        "outputId": "5bc6c1d7-d2ef-44eb-a3d7-c8e81aec8f61"
      },
      "source": [
        "# Convert class labels into class vectors\n",
        "y_train_img_model = np.array([y_train[i]\n",
        "                              for i in range(len(y_train))\n",
        "                            ])\n",
        "                              \n",
        "y_train_img_model = keras.utils.to_categorical(y_train_img_model, num_classes = 15)\n",
        "y_train_img_model"
      ],
      "execution_count": 9,
      "outputs": [
        {
          "output_type": "execute_result",
          "data": {
            "text/plain": [
              "array([[0., 0., 0., ..., 0., 0., 0.],\n",
              "       [0., 0., 0., ..., 0., 0., 0.],\n",
              "       [0., 0., 0., ..., 1., 0., 0.],\n",
              "       ...,\n",
              "       [0., 0., 0., ..., 0., 0., 1.],\n",
              "       [0., 0., 0., ..., 0., 0., 0.],\n",
              "       [0., 0., 0., ..., 0., 0., 0.]], dtype=float32)"
            ]
          },
          "metadata": {
            "tags": []
          },
          "execution_count": 9
        }
      ]
    },
    {
      "cell_type": "code",
      "metadata": {
        "id": "bx14AWem96Di",
        "colab_type": "code",
        "colab": {}
      },
      "source": [
        "# Dictionary to store different models' performances\n",
        "model_dict = {'Model':[], 'Training Acc.':[], 'Validation Acc.':[]}\n",
        "\n",
        "# Return training error and validation error for model\n",
        "def get_train_val_error(model):\n",
        "    scorer = make_scorer(accuracy_score)\n",
        "    \n",
        "    model.fit(X_train, y_train)\n",
        "\n",
        "    preds = model.predict(X_train)\n",
        "    training_acc = accuracy_score(y_train, preds)\n",
        "    val_acc = np.mean(cross_val_score(model, X_train, y_train, scoring = scorer))\n",
        "\n",
        "    return training_acc, val_acc"
      ],
      "execution_count": 0,
      "outputs": []
    },
    {
      "cell_type": "code",
      "metadata": {
        "id": "WNmKiUtL96Dm",
        "colab_type": "code",
        "colab": {
          "base_uri": "https://localhost:8080/",
          "height": 445
        },
        "outputId": "eac3e985-5547-4db0-f56d-bcdd09291ce5"
      },
      "source": [
        "cols = ['title', 'tags', 'description']\n",
        "\n",
        "# Data Pipeline for text-based model\n",
        "model_text = Pipeline([\n",
        "    ('Columns', ColumnTransformer([\n",
        "        ('keep', 'passthrough', cols)\n",
        "    ])),\n",
        "    ('Imputation', SimpleImputer(strategy = 'constant', fill_value = '')),\n",
        "    ('Bag of Words', ColumnTransformer([\n",
        "        (cols[0], CountVectorizer(stop_words = 'english', max_features = 10000), 0),\n",
        "        (cols[1], CountVectorizer(stop_words = 'english', max_features = 10000), 1),\n",
        "        (cols[2], CountVectorizer(stop_words = 'english', max_features = 10000), 2)\n",
        "    ])),\n",
        "    ('TF-IDF', TfidfTransformer()),\n",
        "    ('Model Text', LogisticRegression(multi_class = 'multinomial', solver = 'sag'))\n",
        "])\n",
        "\n",
        "model_text"
      ],
      "execution_count": 11,
      "outputs": [
        {
          "output_type": "execute_result",
          "data": {
            "text/plain": [
              "Pipeline(memory=None,\n",
              "         steps=[('Columns',\n",
              "                 ColumnTransformer(n_jobs=None, remainder='drop',\n",
              "                                   sparse_threshold=0.3,\n",
              "                                   transformer_weights=None,\n",
              "                                   transformers=[('keep', 'passthrough',\n",
              "                                                  ['title', 'tags',\n",
              "                                                   'description'])],\n",
              "                                   verbose=False)),\n",
              "                ('Imputation',\n",
              "                 SimpleImputer(add_indicator=False, copy=True, fill_value='',\n",
              "                               missing_values=nan, strategy='constant',\n",
              "                               verbose=0)),\n",
              "                ('Bag of Wor...\n",
              "                ('TF-IDF',\n",
              "                 TfidfTransformer(norm='l2', smooth_idf=True,\n",
              "                                  sublinear_tf=False, use_idf=True)),\n",
              "                ('Model Text',\n",
              "                 LogisticRegression(C=1.0, class_weight=None, dual=False,\n",
              "                                    fit_intercept=True, intercept_scaling=1,\n",
              "                                    l1_ratio=None, max_iter=100,\n",
              "                                    multi_class='multinomial', n_jobs=None,\n",
              "                                    penalty='l2', random_state=None,\n",
              "                                    solver='sag', tol=0.0001, verbose=0,\n",
              "                                    warm_start=False))],\n",
              "         verbose=False)"
            ]
          },
          "metadata": {
            "tags": []
          },
          "execution_count": 11
        }
      ]
    },
    {
      "cell_type": "code",
      "metadata": {
        "id": "ZtTZIasm96Dp",
        "colab_type": "code",
        "colab": {
          "base_uri": "https://localhost:8080/",
          "height": 49
        },
        "outputId": "752fb4d8-13ab-4d64-cbd9-03829ebf48af"
      },
      "source": [
        "# Get training and validation error of text-based model\n",
        "model_text_train_err, model_text_val_err = get_train_val_error(model_text)\n",
        "\n",
        "print('Training Accuracy: {}'.format(model_text_train_err))\n",
        "print('Validation Accuracy: {}'.format(model_text_val_err))"
      ],
      "execution_count": 12,
      "outputs": [
        {
          "output_type": "stream",
          "text": [
            "Training Accuracy: 0.9650646315393051\n",
            "Validation Accuracy: 0.9418039632729999\n"
          ],
          "name": "stdout"
        }
      ]
    },
    {
      "cell_type": "code",
      "metadata": {
        "id": "NnCol_Mv96Dv",
        "colab_type": "code",
        "colab": {}
      },
      "source": [
        "# Add text-based model's performance to the model dictionary\n",
        "model_dict['Model'].append('Text Model (Baseline)')\n",
        "model_dict['Training Acc.'].append(model_text_train_err)\n",
        "model_dict['Validation Acc.'].append(model_text_val_err)"
      ],
      "execution_count": 0,
      "outputs": []
    },
    {
      "cell_type": "code",
      "metadata": {
        "id": "4pWn1QWG96Dy",
        "colab_type": "code",
        "colab": {
          "base_uri": "https://localhost:8080/",
          "height": 33
        },
        "outputId": "f8547cd8-265a-41d5-87cd-6e9f09db04a7"
      },
      "source": [
        "# Clear previous model weights and returns a blank baseline CNN model\n",
        "# consisting of 10 feature maps, a 3x3 local receptive field, and the ReLU\n",
        "# activaton function\n",
        "def baseline_image_model():\n",
        "    clear_session()\n",
        "    \n",
        "    model = Sequential()\n",
        "    model.add(Conv2D(10, (3, 3), activation='relu', input_shape = (50, 50, 3)))\n",
        "    model.add(Flatten())\n",
        "    model.add(Dense(15, activation='softmax'))\n",
        "\n",
        "    sgd = SGD(lr=0.001)\n",
        "    model.compile(loss='categorical_crossentropy', optimizer=sgd, metrics = ['accuracy'])\n",
        "    \n",
        "    return model\n",
        "\n",
        "image_model = baseline_image_model()\n",
        "image_model"
      ],
      "execution_count": 14,
      "outputs": [
        {
          "output_type": "execute_result",
          "data": {
            "text/plain": [
              "<keras.engine.sequential.Sequential at 0x7f47bc214780>"
            ]
          },
          "metadata": {
            "tags": []
          },
          "execution_count": 14
        }
      ]
    },
    {
      "cell_type": "code",
      "metadata": {
        "id": "ncEKqpFt96D0",
        "colab_type": "code",
        "colab": {
          "base_uri": "https://localhost:8080/",
          "height": 742
        },
        "outputId": "4ac8f9ee-36d1-477f-8655-3393ea9a5264"
      },
      "source": [
        "# Return validation accuracies for image-based model\n",
        "def cross_val_score_custom(X_train_img, y_train_img):\n",
        "    from sklearn.model_selection import KFold\n",
        "    \n",
        "    kfold = KFold(n_splits = 3)\n",
        "    val_accs = []\n",
        "    \n",
        "    for train_index, val_index in kfold.split(X_train_img):\n",
        "        new_model = baseline_image_model()\n",
        "        \n",
        "        new_model.fit(X_train_img[train_index],\n",
        "                      y_train_img[train_index],\n",
        "                      epochs = 5,\n",
        "                      batch_size = 128)\n",
        "        \n",
        "        val_error, val_acc = new_model.evaluate(X_train_img[val_index], y_train_img[val_index])\n",
        "        val_accs.append(val_acc)\n",
        "        \n",
        "    return val_accs\n",
        "\n",
        "# Return training and validation accuracy of image-based model\n",
        "def get_train_val_error_image_model(image_model):\n",
        "    image_model.fit(img_data / 255, y_train_img_model, epochs = 5)\n",
        "    \n",
        "    train_err, train_acc = image_model.evaluate(img_data / 255, y_train_img_model)\n",
        "    val_acc = np.mean(cross_val_score_custom(img_data / 255, y_train_img_model))\n",
        "    \n",
        "    return train_acc, val_acc\n",
        "\n",
        "\n",
        "# Get training and validation error of image-based model\n",
        "train_acc_image_model, val_acc_image_model = get_train_val_error_image_model(image_model)"
      ],
      "execution_count": 15,
      "outputs": [
        {
          "output_type": "stream",
          "text": [
            "Epoch 1/5\n",
            "90281/90281 [==============================] - 53s 588us/step - loss: 2.1734 - accuracy: 0.3280\n",
            "Epoch 2/5\n",
            "90281/90281 [==============================] - 54s 599us/step - loss: 2.0213 - accuracy: 0.3572\n",
            "Epoch 3/5\n",
            "90281/90281 [==============================] - 54s 598us/step - loss: 1.9409 - accuracy: 0.3759\n",
            "Epoch 4/5\n",
            "90281/90281 [==============================] - 54s 604us/step - loss: 1.8708 - accuracy: 0.3998\n",
            "Epoch 5/5\n",
            "90281/90281 [==============================] - 54s 595us/step - loss: 1.8063 - accuracy: 0.4239\n",
            "90281/90281 [==============================] - 28s 311us/step\n",
            "Epoch 1/5\n",
            "60187/60187 [==============================] - 30s 493us/step - loss: 2.2595 - accuracy: 0.3072\n",
            "Epoch 2/5\n",
            "60187/60187 [==============================] - 29s 476us/step - loss: 2.1839 - accuracy: 0.3273\n",
            "Epoch 3/5\n",
            "60187/60187 [==============================] - 29s 485us/step - loss: 2.1308 - accuracy: 0.3352\n",
            "Epoch 4/5\n",
            "60187/60187 [==============================] - 29s 489us/step - loss: 2.0857 - accuracy: 0.3421\n",
            "Epoch 5/5\n",
            "60187/60187 [==============================] - 29s 480us/step - loss: 2.0562 - accuracy: 0.3473\n",
            "30094/30094 [==============================] - 7s 247us/step\n",
            "Epoch 1/5\n",
            "60187/60187 [==============================] - 29s 484us/step - loss: 2.2560 - accuracy: 0.3073\n",
            "Epoch 2/5\n",
            "60187/60187 [==============================] - 29s 486us/step - loss: 2.1768 - accuracy: 0.3345\n",
            "Epoch 3/5\n",
            "60187/60187 [==============================] - 29s 487us/step - loss: 2.1327 - accuracy: 0.3428\n",
            "Epoch 4/5\n",
            "60187/60187 [==============================] - 29s 478us/step - loss: 2.0952 - accuracy: 0.3461\n",
            "Epoch 5/5\n",
            "60187/60187 [==============================] - 29s 489us/step - loss: 2.0603 - accuracy: 0.3513\n",
            "30094/30094 [==============================] - 8s 260us/step\n",
            "Epoch 1/5\n",
            "60188/60188 [==============================] - 30s 490us/step - loss: 2.2511 - accuracy: 0.3157\n",
            "Epoch 2/5\n",
            "60188/60188 [==============================] - 29s 475us/step - loss: 2.1656 - accuracy: 0.3379\n",
            "Epoch 3/5\n",
            "60188/60188 [==============================] - 29s 483us/step - loss: 2.1155 - accuracy: 0.3456\n",
            "Epoch 4/5\n",
            "60188/60188 [==============================] - 29s 487us/step - loss: 2.0754 - accuracy: 0.3491\n",
            "Epoch 5/5\n",
            "60188/60188 [==============================] - 30s 493us/step - loss: 2.0388 - accuracy: 0.3512\n",
            "30093/30093 [==============================] - 8s 250us/step\n"
          ],
          "name": "stdout"
        }
      ]
    },
    {
      "cell_type": "code",
      "metadata": {
        "id": "8mKI72XR96D3",
        "colab_type": "code",
        "colab": {
          "base_uri": "https://localhost:8080/",
          "height": 49
        },
        "outputId": "15af7d6a-10b6-4323-b84a-2bc1eaf60b59"
      },
      "source": [
        "print('Training accuracy for baseline image-based model: {}'.format(train_acc_image_model))\n",
        "print('Validation accuracy for baseline image-based model: {}'.format(val_acc_image_model))"
      ],
      "execution_count": 23,
      "outputs": [
        {
          "output_type": "stream",
          "text": [
            "Training accuracy for baseline image-based model: 0.4494079649448395\n",
            "Validation accuracy for baseline image-based model: 0.335342009862264\n"
          ],
          "name": "stdout"
        }
      ]
    },
    {
      "cell_type": "code",
      "metadata": {
        "id": "UeKO6RJv96D5",
        "colab_type": "code",
        "colab": {}
      },
      "source": [
        "# Add image-based model's performance to the model dictionary\n",
        "\n",
        "model_dict['Model'].append('Img Model (Baseline)')\n",
        "model_dict['Training Acc.'].append(train_acc_image_model)\n",
        "model_dict['Validation Acc.'].append(val_acc_image_model)"
      ],
      "execution_count": 0,
      "outputs": []
    },
    {
      "cell_type": "code",
      "metadata": {
        "id": "6HlCMZ2s96D9",
        "colab_type": "code",
        "colab": {
          "base_uri": "https://localhost:8080/",
          "height": 103
        },
        "outputId": "9151fcc1-980b-424b-9678-24b48ffb2c73"
      },
      "source": [
        "model_performance = pd.DataFrame(model_dict, index = model_dict['Model'])\n",
        "model_performance"
      ],
      "execution_count": 21,
      "outputs": [
        {
          "output_type": "execute_result",
          "data": {
            "text/html": [
              "<div>\n",
              "<style scoped>\n",
              "    .dataframe tbody tr th:only-of-type {\n",
              "        vertical-align: middle;\n",
              "    }\n",
              "\n",
              "    .dataframe tbody tr th {\n",
              "        vertical-align: top;\n",
              "    }\n",
              "\n",
              "    .dataframe thead th {\n",
              "        text-align: right;\n",
              "    }\n",
              "</style>\n",
              "<table border=\"1\" class=\"dataframe\">\n",
              "  <thead>\n",
              "    <tr style=\"text-align: right;\">\n",
              "      <th></th>\n",
              "      <th>Model</th>\n",
              "      <th>Training Acc.</th>\n",
              "      <th>Validation Acc.</th>\n",
              "    </tr>\n",
              "  </thead>\n",
              "  <tbody>\n",
              "    <tr>\n",
              "      <th>Text Model (Baseline)</th>\n",
              "      <td>Text Model (Baseline)</td>\n",
              "      <td>0.965065</td>\n",
              "      <td>0.941804</td>\n",
              "    </tr>\n",
              "    <tr>\n",
              "      <th>Img Model (Baseline)</th>\n",
              "      <td>Img Model (Baseline)</td>\n",
              "      <td>0.449408</td>\n",
              "      <td>0.335342</td>\n",
              "    </tr>\n",
              "  </tbody>\n",
              "</table>\n",
              "</div>"
            ],
            "text/plain": [
              "                                       Model  Training Acc.  Validation Acc.\n",
              "Text Model (Baseline)  Text Model (Baseline)       0.965065         0.941804\n",
              "Img Model (Baseline)    Img Model (Baseline)       0.449408         0.335342"
            ]
          },
          "metadata": {
            "tags": []
          },
          "execution_count": 21
        }
      ]
    },
    {
      "cell_type": "code",
      "metadata": {
        "id": "X3YJwn9496EB",
        "colab_type": "code",
        "colab": {
          "base_uri": "https://localhost:8080/",
          "height": 406
        },
        "outputId": "fc1d8275-8fe2-4396-f301-2ca88b37935d"
      },
      "source": [
        "pos = list(range(len(model_performance))) \n",
        "width = 0.25 \n",
        "fig, ax = plt.subplots(figsize = (12,6))\n",
        "\n",
        "plt.bar(pos, \n",
        "        model_performance['Training Acc.'], \n",
        "        width, \n",
        "        alpha=0.5, \n",
        "        color='#EE3224', \n",
        "        align = 'center',\n",
        "        label=model_performance['Model'][0]) \n",
        "plt.bar([p + width for p in pos], \n",
        "        model_performance['Validation Acc.'],\n",
        "        width, \n",
        "        alpha=0.5, \n",
        "        color='#F78F1E',\n",
        "        align = 'center',\n",
        "        label=model_performance['Model'][1]) \n",
        "\n",
        "ax.set_ylabel('Accuracy')\n",
        "ax.set_title('Training and Validation Accuracies for Img and Text-based Models')\n",
        "ax.set_xticks([p + 0.5 * width for p in pos])\n",
        "ax.set_xticklabels(model_performance['Model'], ha = 'center')\n",
        "\n",
        "plt.legend(['Training Acc.', 'Validation Acc.'], loc='upper right')"
      ],
      "execution_count": 22,
      "outputs": [
        {
          "output_type": "execute_result",
          "data": {
            "text/plain": [
              "<matplotlib.legend.Legend at 0x7f47bccda6a0>"
            ]
          },
          "metadata": {
            "tags": []
          },
          "execution_count": 22
        },
        {
          "output_type": "display_data",
          "data": {
            "image/png": "[encoded data removed]",
            "text/plain": [
              "<Figure size 864x432 with 1 Axes>"
            ]
          },
          "metadata": {
            "tags": [],
            "needs_background": "light"
          }
        }
      ]
    },
    {
      "cell_type": "markdown",
      "metadata": {
        "id": "HM4jbIeHhx4Z",
        "colab_type": "text"
      },
      "source": [
        "## Summary"
      ]
    },
    {
      "cell_type": "markdown",
      "metadata": {
        "id": "Pftx79K2iLvx",
        "colab_type": "text"
      },
      "source": [
        "\n",
        "\n",
        "*   Text-based model (Baseline)\n",
        "            Training Accuracy: 96.50%\n",
        "            Validation Accuracy: 94.18%\n",
        "\n",
        "*   Image-based model (Baseline)\n",
        "            Training Accuracy: 44.94%\n",
        "            Validation Accuracy: 33.53%\n"
      ]
    },
    {
      "cell_type": "markdown",
      "metadata": {
        "id": "qUhVtYODh9_n",
        "colab_type": "text"
      },
      "source": [
        "# To-do"
      ]
    },
    {
      "cell_type": "markdown",
      "metadata": {
        "id": "Axm_HwjbjVnN",
        "colab_type": "text"
      },
      "source": [
        "\n",
        "\n",
        "*   Train/test a more complex text-based model than baseline model (ANN, CNN, SVM)\n",
        "*   Train/test a more complex CNN architecture for image-based model\n",
        "\n"
      ]
    }
  ]
}